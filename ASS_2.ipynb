{
  "nbformat": 4,
  "nbformat_minor": 0,
  "metadata": {
    "colab": {
      "provenance": [],
      "authorship_tag": "ABX9TyNMtfZQSV0aox5D2GPOHnli",
      "include_colab_link": true
    },
    "kernelspec": {
      "name": "python3",
      "display_name": "Python 3"
    },
    "language_info": {
      "name": "python"
    }
  },
  "cells": [
    {
      "cell_type": "markdown",
      "metadata": {
        "id": "view-in-github",
        "colab_type": "text"
      },
      "source": [
        "<a href=\"https://colab.research.google.com/github/2303A52078/Generative-AI/blob/main/ASS_2.ipynb\" target=\"_parent\"><img src=\"https://colab.research.google.com/assets/colab-badge.svg\" alt=\"Open In Colab\"/></a>"
      ]
    },
    {
      "cell_type": "markdown",
      "source": [
        "QUESTION - 1"
      ],
      "metadata": {
        "id": "ATFnpWYiIkf8"
      }
    },
    {
      "cell_type": "code",
      "execution_count": 1,
      "metadata": {
        "colab": {
          "base_uri": "https://localhost:8080/"
        },
        "id": "i5GamPXpHpoq",
        "outputId": "f191a6f2-1111-4ecd-f4f8-6c559125d3c8"
      },
      "outputs": [
        {
          "output_type": "stream",
          "name": "stdout",
          "text": [
            "Optimal Solution:\n",
            "Number of units of Chocolate A (x1): 2.00\n",
            "Number of units of Chocolate B (x2): 3.00\n",
            "Maximum Profit: Rs 27.00\n"
          ]
        }
      ],
      "source": [
        "from scipy.optimize import linprog\n",
        "\n",
        "# Coefficients of the objective function (maximize 6x1 + 5x2)\n",
        "c = [-6, -5]  # Negative because linprog minimizes by default\n",
        "\n",
        "# Coefficients of the inequality constraints\n",
        "A = [[1, 1],     # Milk constraint: x1 + x2 <= 5\n",
        "     [3, 2]]     # Choco constraint: 3x1 + 2x2 <= 12\n",
        "b = [5, 12]      # RHS of the constraints\n",
        "\n",
        "# Bounds for the variables\n",
        "x_bounds = [(0, None),  # x1 >= 0\n",
        "            (0, None)]  # x2 >= 0\n",
        "\n",
        "# Solve the linear programming problem\n",
        "result = linprog(c, A_ub=A, b_ub=b, bounds=x_bounds, method='highs')\n",
        "\n",
        "# Display the results\n",
        "if result.success:\n",
        "    print(\"Optimal Solution:\")\n",
        "    print(f\"Number of units of Chocolate A (x1): {result.x[0]:.2f}\")\n",
        "    print(f\"Number of units of Chocolate B (x2): {result.x[1]:.2f}\")\n",
        "    print(f\"Maximum Profit: Rs {-result.fun:.2f}\")\n",
        "else:\n",
        "    print(\"No solution found.\")"
      ]
    },
    {
      "cell_type": "markdown",
      "source": [
        "QUESTION - 2"
      ],
      "metadata": {
        "id": "RfYyc1DsIquz"
      }
    },
    {
      "cell_type": "code",
      "source": [
        "from scipy.optimize import linprog\n",
        "\n",
        "# Coefficients of the objective function (maximize 50x1 + 120x2)\n",
        "c = [-50, -120]  # Negative because linprog minimizes by default\n",
        "\n",
        "# Coefficients of the inequality constraints\n",
        "A = [[1, 1],       # Land constraint: x1 + x2 <= 110\n",
        "     [7000, 2000], # Budget constraint: 7000x1 + 2000x2 <= 700,000\n",
        "     [10, 30]]     # Labor constraint: 10x1 + 30x2 <= 1200\n",
        "b = [110, 700000, 1200]  # RHS of the constraints\n",
        "\n",
        "# Bounds for the variables\n",
        "x_bounds = [(0, None),  # x1 >= 0\n",
        "            (0, None)]  # x2 >= 0\n",
        "\n",
        "# Solve the linear programming problem\n",
        "result = linprog(c, A_ub=A, b_ub=b, bounds=x_bounds, method='highs')\n",
        "\n",
        "# Display the results\n",
        "if result.success:\n",
        "    print(\"Optimal Solution:\")\n",
        "    print(f\"Area allocated to Wheat (x1): {result.x[0]:.2f} hectares\")\n",
        "    print(f\"Area allocated to Barley (x2): {result.x[1]:.2f} hectares\")\n",
        "    print(f\"Maximum Profit: Rs {-result.fun:.2f}\")\n",
        "else:\n",
        "    print(\"No solution found.\")"
      ],
      "metadata": {
        "colab": {
          "base_uri": "https://localhost:8080/"
        },
        "id": "5_E-LGb4Is_W",
        "outputId": "166634dd-8a8d-4ec8-e513-32af774ffb56"
      },
      "execution_count": 2,
      "outputs": [
        {
          "output_type": "stream",
          "name": "stdout",
          "text": [
            "Optimal Solution:\n",
            "Area allocated to Wheat (x1): 97.89 hectares\n",
            "Area allocated to Barley (x2): 7.37 hectares\n",
            "Maximum Profit: Rs 5778.95\n"
          ]
        }
      ]
    }
  ]
}