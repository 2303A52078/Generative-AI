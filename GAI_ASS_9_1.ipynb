{
  "nbformat": 4,
  "nbformat_minor": 0,
  "metadata": {
    "colab": {
      "provenance": [],
      "mount_file_id": "1E0HpHjon4010XPXGJ1VuD445NYSg5Wps",
      "authorship_tag": "ABX9TyP4f7N7Mgrbs0xjx56ydbk/",
      "include_colab_link": true
    },
    "kernelspec": {
      "name": "python3",
      "display_name": "Python 3"
    },
    "language_info": {
      "name": "python"
    }
  },
  "cells": [
    {
      "cell_type": "markdown",
      "metadata": {
        "id": "view-in-github",
        "colab_type": "text"
      },
      "source": [
        "<a href=\"https://colab.research.google.com/github/2303A52078/Generative-AI/blob/main/GAI_ASS_9_1.ipynb\" target=\"_parent\"><img src=\"https://colab.research.google.com/assets/colab-badge.svg\" alt=\"Open In Colab\"/></a>"
      ]
    },
    {
      "cell_type": "code",
      "source": [
        "# Import necessary libraries\n",
        "import tensorflow as tf\n",
        "from tensorflow import keras\n",
        "from tensorflow.keras.models import Sequential\n",
        "from tensorflow.keras.layers import Dense, Flatten\n",
        "from tensorflow.keras.optimizers import Adadelta\n",
        "from tensorflow.keras.datasets import mnist\n",
        "import numpy as np\n",
        "\n",
        "# Load the MNIST dataset\n",
        "(x_train, y_train), (x_test, y_test) = mnist.load_data()\n",
        "\n",
        "# Normalize the data (scaling pixel values to range [0,1])\n",
        "x_train, x_test = x_train / 255.0, x_test / 255.0\n",
        "\n",
        "# Define the ANN Model Architecture\n",
        "def build_model(hidden_layers=[32, 32, 32], activation='relu'):\n",
        "    model = Sequential()\n",
        "    model.add(Flatten(input_shape=(28, 28)))  # Flatten input image (28x28) to a vector\n",
        "\n",
        "    # Add hidden layers\n",
        "    for neurons in hidden_layers:\n",
        "        model.add(Dense(neurons, activation=activation))\n",
        "\n",
        "    model.add(Dense(10, activation='softmax'))  # Output layer for 10 digit classes\n",
        "\n",
        "    # Compile the model\n",
        "    model.compile(optimizer=Adadelta(),\n",
        "                  loss='sparse_categorical_crossentropy',\n",
        "                  metrics=['accuracy'])\n",
        "    return model\n",
        "\n",
        "# Train and evaluate the default model\n",
        "model = build_model()\n",
        "history = model.fit(x_train, y_train, epochs=10, batch_size=128, validation_data=(x_test, y_test), verbose=1)\n",
        "\n",
        "# Evaluate performance\n",
        "train_loss, train_acc = model.evaluate(x_train, y_train, verbose=0)\n",
        "test_loss, test_acc = model.evaluate(x_test, y_test, verbose=0)\n",
        "\n",
        "# Print accuracy results\n",
        "print(f\"Training Accuracy: {train_acc:.4f}\")\n",
        "print(f\"Testing Accuracy: {test_acc:.4f}\")\n",
        "\n",
        "# Hyperparameter tuning (experimenting with different architectures)\n",
        "tuned_models = [\n",
        "    {\"layers\": [64, 64], \"activation\": \"relu\"},\n",
        "    {\"layers\": [128, 64, 32], \"activation\": \"relu\"},\n",
        "    {\"layers\": [256, 128, 64], \"activation\": \"relu\"},\n",
        "    {\"layers\": [128, 128, 128], \"activation\": \"tanh\"},\n",
        "]\n",
        "\n",
        "best_acc = 0\n",
        "best_model_config = None\n",
        "\n",
        "# Train and evaluate each model\n",
        "for config in tuned_models:\n",
        "    model = build_model(hidden_layers=config[\"layers\"], activation=config[\"activation\"])\n",
        "    model.fit(x_train, y_train, epochs=10, batch_size=128, validation_data=(x_test, y_test), verbose=0)\n",
        "\n",
        "    _, test_acc = model.evaluate(x_test, y_test, verbose=0)\n",
        "\n",
        "    if test_acc > best_acc:\n",
        "        best_acc = test_acc\n",
        "        best_model_config = config\n",
        "\n",
        "# Print the best model configuration\n",
        "print(\"Best Architecture:\", best_model_config)\n",
        "print(f\"Best Testing Accuracy: {best_acc:.4f}\")\n"
      ],
      "metadata": {
        "colab": {
          "base_uri": "https://localhost:8080/"
        },
        "id": "9hip7-xqmqOD",
        "outputId": "b45f48d3-3ace-4a93-8a44-a45656ac9d3a"
      },
      "execution_count": 1,
      "outputs": [
        {
          "output_type": "stream",
          "name": "stdout",
          "text": [
            "Downloading data from https://storage.googleapis.com/tensorflow/tf-keras-datasets/mnist.npz\n",
            "\u001b[1m11490434/11490434\u001b[0m \u001b[32m━━━━━━━━━━━━━━━━━━━━\u001b[0m\u001b[37m\u001b[0m \u001b[1m0s\u001b[0m 0us/step\n"
          ]
        },
        {
          "output_type": "stream",
          "name": "stderr",
          "text": [
            "/usr/local/lib/python3.11/dist-packages/keras/src/layers/reshaping/flatten.py:37: UserWarning: Do not pass an `input_shape`/`input_dim` argument to a layer. When using Sequential models, prefer using an `Input(shape)` object as the first layer in the model instead.\n",
            "  super().__init__(**kwargs)\n"
          ]
        },
        {
          "output_type": "stream",
          "name": "stdout",
          "text": [
            "Epoch 1/10\n",
            "\u001b[1m469/469\u001b[0m \u001b[32m━━━━━━━━━━━━━━━━━━━━\u001b[0m\u001b[37m\u001b[0m \u001b[1m2s\u001b[0m 2ms/step - accuracy: 0.0962 - loss: 2.3120 - val_accuracy: 0.1100 - val_loss: 2.2974\n",
            "Epoch 2/10\n",
            "\u001b[1m469/469\u001b[0m \u001b[32m━━━━━━━━━━━━━━━━━━━━\u001b[0m\u001b[37m\u001b[0m \u001b[1m1s\u001b[0m 2ms/step - accuracy: 0.1095 - loss: 2.2962 - val_accuracy: 0.1284 - val_loss: 2.2822\n",
            "Epoch 3/10\n",
            "\u001b[1m469/469\u001b[0m \u001b[32m━━━━━━━━━━━━━━━━━━━━\u001b[0m\u001b[37m\u001b[0m \u001b[1m1s\u001b[0m 2ms/step - accuracy: 0.1283 - loss: 2.2808 - val_accuracy: 0.1466 - val_loss: 2.2685\n",
            "Epoch 4/10\n",
            "\u001b[1m469/469\u001b[0m \u001b[32m━━━━━━━━━━━━━━━━━━━━\u001b[0m\u001b[37m\u001b[0m \u001b[1m1s\u001b[0m 2ms/step - accuracy: 0.1480 - loss: 2.2683 - val_accuracy: 0.1645 - val_loss: 2.2558\n",
            "Epoch 5/10\n",
            "\u001b[1m469/469\u001b[0m \u001b[32m━━━━━━━━━━━━━━━━━━━━\u001b[0m\u001b[37m\u001b[0m \u001b[1m1s\u001b[0m 2ms/step - accuracy: 0.1639 - loss: 2.2565 - val_accuracy: 0.1831 - val_loss: 2.2437\n",
            "Epoch 6/10\n",
            "\u001b[1m469/469\u001b[0m \u001b[32m━━━━━━━━━━━━━━━━━━━━\u001b[0m\u001b[37m\u001b[0m \u001b[1m1s\u001b[0m 2ms/step - accuracy: 0.1802 - loss: 2.2451 - val_accuracy: 0.1991 - val_loss: 2.2321\n",
            "Epoch 7/10\n",
            "\u001b[1m469/469\u001b[0m \u001b[32m━━━━━━━━━━━━━━━━━━━━\u001b[0m\u001b[37m\u001b[0m \u001b[1m2s\u001b[0m 3ms/step - accuracy: 0.1933 - loss: 2.2349 - val_accuracy: 0.2130 - val_loss: 2.2206\n",
            "Epoch 8/10\n",
            "\u001b[1m469/469\u001b[0m \u001b[32m━━━━━━━━━━━━━━━━━━━━\u001b[0m\u001b[37m\u001b[0m \u001b[1m1s\u001b[0m 2ms/step - accuracy: 0.2082 - loss: 2.2231 - val_accuracy: 0.2285 - val_loss: 2.2090\n",
            "Epoch 9/10\n",
            "\u001b[1m469/469\u001b[0m \u001b[32m━━━━━━━━━━━━━━━━━━━━\u001b[0m\u001b[37m\u001b[0m \u001b[1m1s\u001b[0m 2ms/step - accuracy: 0.2223 - loss: 2.2117 - val_accuracy: 0.2439 - val_loss: 2.1971\n",
            "Epoch 10/10\n",
            "\u001b[1m469/469\u001b[0m \u001b[32m━━━━━━━━━━━━━━━━━━━━\u001b[0m\u001b[37m\u001b[0m \u001b[1m1s\u001b[0m 3ms/step - accuracy: 0.2369 - loss: 2.2005 - val_accuracy: 0.2595 - val_loss: 2.1849\n",
            "Training Accuracy: 0.2466\n",
            "Testing Accuracy: 0.2595\n",
            "Best Architecture: {'layers': [128, 128, 128], 'activation': 'tanh'}\n",
            "Best Testing Accuracy: 0.7583\n"
          ]
        }
      ]
    }
  ]
}